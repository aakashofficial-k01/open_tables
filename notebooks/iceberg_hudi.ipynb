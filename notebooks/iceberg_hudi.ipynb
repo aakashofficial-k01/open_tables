{
 "cells": [
  {
   "cell_type": "code",
   "execution_count": 1,
   "id": "7c068faa-fd8b-416b-9867-dd974190a0aa",
   "metadata": {},
   "outputs": [],
   "source": [
    "from pyspark.sql import SparkSession\n",
    "from pyspark.sql.functions import current_timestamp\n",
    "\n",
    "def get_iceberg_spark_session():\n",
    "    return SparkSession.builder \\\n",
    "        .appName(\"Iceberg-Demo\") \\\n",
    "        .config(\"spark.jars.packages\", \"org.apache.iceberg:iceberg-spark-runtime-3.5_2.12:1.4.3\") \\\n",
    "        .config(\"spark.sql.catalog.iceberg_catalog\", \"org.apache.iceberg.spark.SparkCatalog\") \\\n",
    "        .config(\"spark.sql.catalog.iceberg_catalog.type\", \"hadoop\") \\\n",
    "        .config(\"spark.sql.catalog.iceberg_catalog.warehouse\", \"/warehouse/iceberg/test\") \\\n",
    "        .config(\"spark.sql.catalog.iceberg_catalog.cache-enabled\", \"false\") \\\n",
    "        .config(\"spark.sql.extensions\", \"org.apache.iceberg.spark.extensions.IcebergSparkSessionExtensions\") \\\n",
    "        .config(\"spark.sql.defaultCatalog\", \"spark_catalog\") \\\n",
    "        .config(\"spark.sql.warehouse.dir\", \"/warehouse/test\") \\\n",
    "        .getOrCreate()\n",
    "\n",
    "def get_hudi_spark_session():\n",
    "    return SparkSession.builder \\\n",
    "        .appName(\"Hudi-Demo\") \\\n",
    "        .config(\"spark.jars.packages\", \"org.apache.hudi:hudi-spark3.5-bundle_2.12:0.15.0\") \\\n",
    "        .config('spark.sql.catalog.spark_catalog', 'org.apache.spark.sql.hudi.catalog.HoodieCatalog') \\\n",
    "        .config(\"spark.sql.extensions\", \"org.apache.spark.sql.hudi.HoodieSparkSessionExtension\") \\\n",
    "        .config('spark.kryo.registrator', 'org.apache.spark.HoodieSparkKryoRegistrar') \\\n",
    "        .config('spark.serializer', 'org.apache.spark.serializer.KryoSerializer') \\\n",
    "        .config(\"spark.sql.warehouse.dir\", \"/warehouse/hudi\") \\\n",
    "        .getOrCreate()"
   ]
  },
  {
   "cell_type": "code",
   "execution_count": 1,
   "id": "a63ec1f2-9036-43a5-a8f7-962d72e7167f",
   "metadata": {},
   "outputs": [],
   "source": [
    "def create_sample_data(spark):\n",
    "    data = [(4, \"John\", \"2024-01-01\"),\n",
    "            (5, \"Jane\", \"2024-01-02\"),\n",
    "            (6, \"Bob\", \"2024-01-03\")]\n",
    "    df = spark.createDataFrame(data, [\"id\", \"name\", \"date\"])\n",
    "    df.show()\n",
    "    return df.withColumn(\"time_col\", current_timestamp())"
   ]
  },
  {
   "cell_type": "code",
   "execution_count": 2,
   "id": "36cd454d-3803-49d1-bf16-03ca2565deb5",
   "metadata": {
    "collapsed": true,
    "jupyter": {
     "outputs_hidden": true
    }
   },
   "outputs": [
    {
     "name": "stdout",
     "output_type": "stream",
     "text": [
      "+---+----+----------+\n",
      "| id|name|      date|\n",
      "+---+----+----------+\n",
      "|  4|John|2024-01-01|\n",
      "|  5|Jane|2024-01-02|\n",
      "|  6| Bob|2024-01-03|\n",
      "+---+----+----------+\n",
      "\n"
     ]
    }
   ],
   "source": [
    "def write_to_iceberg(df):\n",
    "    spark = get_iceberg_spark_session()\n",
    "    # Alternative approach using DataFrame API\n",
    "    # df.writeTo(\"iceberg_catalog.default.users_test\").using(\"iceberg\").createOrReplace()\n",
    "    spark.sql(\"ALTER TABLE iceberg_catalog.default.users_test ADD COLUMNS (time_col TIMESTAMP);\")\n",
    "    df.writeTo(\"iceberg_catalog.default.users_test\").append()\n",
    "    result = spark.sql(\"SELECT * FROM iceberg_catalog.default.users_test\")\n",
    "    result.show()\n",
    "\n",
    "def write_to_hudi(df):\n",
    "    spark = get_hudi_spark_session()\n",
    "    df.write.format(\"hudi\") \\\n",
    "        .option(\"hoodie.datasource.write.recordkey.field\", \"id\") \\\n",
    "        .option(\"hoodie.datasource.write.table.name\", \"hudi_test\") \\\n",
    "        .option(\"hoodie.datasource.write.operation\", \"upsert\") \\\n",
    "        .option(\"hoodie.datasource.write.precombine.field\", \"time_col\") \\\n",
    "        .option(\"hoodie.table.name\", \"hudi_test\") \\\n",
    "        .mode(\"append\") \\\n",
    "        .save(\"/warehouse/hudi/hudi_test/\")"
   ]
  },
  {
   "cell_type": "code",
   "execution_count": 10,
   "id": "5224e6c8-5bb7-49ea-a3bb-dc4f75672819",
   "metadata": {
    "collapsed": true,
    "jupyter": {
     "outputs_hidden": true
    }
   },
   "outputs": [
    {
     "data": {
      "text/plain": [
       "DataFrame[]"
      ]
     },
     "execution_count": 10,
     "metadata": {},
     "output_type": "execute_result"
    }
   ],
   "source": [
    "# Example usage\n",
    "iceberg_spark = get_iceberg_spark_session()\n",
    "hudi_spark = get_hudi_spark_session()\n",
    "\n",
    "users_df = create_sample_data(iceberg_spark)\n",
    "write_to_iceberg(users_df)\n",
    "write_to_hudi(users_df)"
   ]
  }
 ],
 "metadata": {
  "kernelspec": {
   "display_name": "Python 3 (ipykernel)",
   "language": "python",
   "name": "python3"
  },
  "language_info": {
   "codemirror_mode": {
    "name": "ipython",
    "version": 3
   },
   "file_extension": ".py",
   "mimetype": "text/x-python",
   "name": "python",
   "nbconvert_exporter": "python",
   "pygments_lexer": "ipython3",
   "version": "3.11.6"
  }
 },
 "nbformat": 4,
 "nbformat_minor": 5
}
